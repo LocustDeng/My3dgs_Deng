{
 "cells": [
  {
   "cell_type": "code",
   "execution_count": 3,
   "id": "b22dadb9",
   "metadata": {},
   "outputs": [
    {
     "name": "stdout",
     "output_type": "stream",
     "text": [
      "D:\\3DGS\\gaussian-splatting(note)\\data\n",
      "3\n",
      "tensor([[ 1.5241e+00, -2.5860e-01,  1.3397e-01, -3.4343e-03],\n",
      "        [ 1.8102e-01,  2.0576e+00, -9.2393e-01, -1.1793e-03],\n",
      "        [-2.7696e-01, -7.8211e-02,  3.8679e+00, -1.9670e-02],\n",
      "        [ 0.0000e+00,  0.0000e+00,  1.0000e+00,  0.0000e+00]])\n",
      "BasicPointCloud(points=array([[-4.193254  , -2.390399  ,  3.8763053 ],\n",
      "       [ 1.4820585 ,  2.0786014 ,  1.1716092 ],\n",
      "       [-3.6570818 , -2.4617922 ,  4.219003  ],\n",
      "       ...,\n",
      "       [-0.94991744, -0.07499009,  1.9484689 ],\n",
      "       [-0.9781138 , -0.04668529,  2.1373944 ],\n",
      "       [-0.75262296,  0.52746195,  1.4366856 ]], dtype=float32), colors=array([[0.91764706, 0.80784314, 0.81960784],\n",
      "       [0.76078431, 0.76470588, 0.75686275],\n",
      "       [0.8627451 , 0.80392157, 0.74509804],\n",
      "       ...,\n",
      "       [0.51372549, 0.34117647, 0.22745098],\n",
      "       [0.03921569, 0.04313725, 0.0627451 ],\n",
      "       [0.55294118, 0.29803922, 0.21176471]]), normals=array([[0., 0., 0.],\n",
      "       [0., 0., 0.],\n",
      "       [0., 0., 0.],\n",
      "       ...,\n",
      "       [0., 0., 0.],\n",
      "       [0., 0., 0.],\n",
      "       [0., 0., 0.]], dtype=float32))\n"
     ]
    }
   ],
   "source": [
    "import os\n",
    "import torch\n",
    "import sys\n",
    "import json\n",
    "from argparse import ArgumentParser, Namespace\n",
    "from scene.data_reader import *\n",
    "\n",
    "#### 主函数\n",
    "if __name__ == \"__main__\":\n",
    "    ### 创建解析器\n",
    "    parser = ArgumentParser(description=\"Begin training parameters\")\n",
    "    ### 直接在主函数中配置的参数，未考虑命令的缩写\n",
    "    parser.add_argument(\"--detect_anomaly\", action=\"store_true\", default=False)\n",
    "    parser.add_argument(\"--test_iterations\", nargs=\"+\", type=int, default=[100,1_000, 7_000, 30_000])\n",
    "    parser.add_argument(\"--save_iterations\", nargs=\"+\", type=int, default=[100,1_000, 7_000, 30_000]) \n",
    "    parser.add_argument(\"--checkpoint_iterations\", nargs=\"+\", type=int, default=[100, 1_000, 7_000, 30_000])\n",
    "    parser.add_argument(\"--start_checkpoint\", type=str, default = None)\n",
    "    \n",
    "    ### 从config.json文件中配置参数，未考虑命令缩写\n",
    "    with open(\"config.json\", \"r\") as f:\n",
    "        data = json.load(f)\n",
    "    for key,value in data.items():\n",
    "        t = type(value)\n",
    "        if t == bool:\n",
    "            parser.add_argument(\"--\"+key, action=\"store_true\", default=value)\n",
    "        else:\n",
    "            parser.add_argument(\"--\"+key, type=t, default=value)\n",
    "    \n",
    "    ### 解析参数\n",
    "    # 从命令行获取参数\n",
    "    # config = parser.parse_args(sys.argv[1:])\n",
    "    ### 测试\n",
    "    # config = parser.parse_args([\"--detect_anomaly\", \"--test_iterations\", \"40000\"])\n",
    "    config = parser.parse_args([\"--source_path\", \"D:\\\\3DGS\\\\gaussian-splatting(note)\\\\data\"]) # 设置source_path,后期修改为命令行获取\n",
    "    print(config.source_path) # 测试参数配置是否成功\n",
    "    print(config.sh_degree)\n",
    "    # 测试数据读取模块\n",
    "    l_data = GSDataLoader(config.source_path, \"images\")\n",
    "    print(l_data.cameras[1].ViewProjMatrix)\n",
    "    print(l_data.points_cloud)\n"
   ]
  },
  {
   "cell_type": "code",
   "execution_count": null,
   "id": "7c121825",
   "metadata": {},
   "outputs": [],
   "source": [
    "   "
   ]
  },
  {
   "cell_type": "code",
   "execution_count": null,
   "id": "79bf90f9",
   "metadata": {},
   "outputs": [],
   "source": []
  }
 ],
 "metadata": {
  "kernelspec": {
   "display_name": "Python 3 (ipykernel)",
   "language": "python",
   "name": "python3"
  },
  "language_info": {
   "codemirror_mode": {
    "name": "ipython",
    "version": 3
   },
   "file_extension": ".py",
   "mimetype": "text/x-python",
   "name": "python",
   "nbconvert_exporter": "python",
   "pygments_lexer": "ipython3",
   "version": "3.7.13"
  }
 },
 "nbformat": 4,
 "nbformat_minor": 5
}
