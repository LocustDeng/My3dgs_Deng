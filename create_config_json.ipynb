{
 "cells": [
  {
   "cell_type": "code",
   "execution_count": 23,
   "id": "ec569ce8",
   "metadata": {},
   "outputs": [],
   "source": [
    "import json\n",
    "config = {\n",
    "\"sh_degree\": 3,\n",
    "\"source_path\": \"\",\n",
    "\"model_path\": \"\",\n",
    "\"images\": \"images\",\n",
    "\"resolution\": -1,\n",
    "\"white_background\": False,\n",
    "\"data_device\": \"cuda\",\n",
    "\"eval\": False,\n",
    "\"iterations\": 30000,\n",
    "\"position_lr_init\": 0.00016,\n",
    "\"position_lr_final\": 0.0000016,\n",
    "\"position_lr_delay_mult\": 0.01,\n",
    "\"position_lr_max_steps\": 30000,\n",
    "\"feature_lr\": 0.0025,\n",
    "\"opacity_lr\": 0.05,\n",
    "\"scaling_lr\": 0.005,\n",
    "\"rotation_lr\": 0.001,\n",
    "\"percent_dense\": 0.01,\n",
    "\"lambda_dssim\": 0.2,\n",
    "\"densification_interval\": 100,\n",
    "\"opacity_reset_interval\": 3000,\n",
    "\"densify_from_iter\": 500,\n",
    "\"densify_until_iter\": 15000,\n",
    "\"densify_grad_threshold\": 0.0002,\n",
    "\"convert_SHs_python\": False,\n",
    "\"compute_cov3D_python\": False\n",
    "}\n",
    "with open(\"config.json\",\"w\") as f:\n",
    "    json.dump(config,f)"
   ]
  },
  {
   "cell_type": "code",
   "execution_count": null,
   "id": "bc2307f8",
   "metadata": {},
   "outputs": [],
   "source": []
  }
 ],
 "metadata": {
  "kernelspec": {
   "display_name": "Python 3 (ipykernel)",
   "language": "python",
   "name": "python3"
  },
  "language_info": {
   "codemirror_mode": {
    "name": "ipython",
    "version": 3
   },
   "file_extension": ".py",
   "mimetype": "text/x-python",
   "name": "python",
   "nbconvert_exporter": "python",
   "pygments_lexer": "ipython3",
   "version": "3.7.13"
  }
 },
 "nbformat": 4,
 "nbformat_minor": 5
}
