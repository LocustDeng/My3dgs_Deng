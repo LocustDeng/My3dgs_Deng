{
 "cells": [
  {
   "cell_type": "code",
   "execution_count": null,
   "id": "f21a413c",
   "metadata": {},
   "outputs": [],
   "source": [
    "# 只考虑从colmap的初始化点云中加载数据的情形\n",
    "class GSDataLoader：\n",
    "    #### 初始化函数，path：存储colmap输出的路径，render_dir：images文件夹\n",
    "    def __init__(self, path, reading_dir)\n",
    "        self.path = path\n",
    "        self.reading_dir = reading_dir\n",
    "        self.cam_infos = [] # 相机参数\n",
    "        self.point_cloud = {} # 点云数据\n",
    "        self.readColmap(path, reading_dir) # 在初始化时调用\n",
    "        \n",
    "    #### 对colmap输出做处理变换的函数\n",
    "    def processColmap(cam_extrinsic, cam_intrinsic, images_folder):\n",
    "        self.cam_infos = []\n",
    "        \n",
    "        \n",
    "        \n",
    "    #### 从colmap中读数据的函数\n",
    "    def readColmap(path, reading_dir)\n",
    "        ### 读取colmap输出文件，只考虑bin文件类型，读取相机参数和点云\n",
    "        # 从images中获取外参，从cameras中获取内参\n",
    "        cameras_extrinsic_file = os.path.join(path, \"sparse/0\", \"images.bin\")\n",
    "        cameras_intrinsic_file = os.path.join(path, \"sparse/0\", \"cameras.bin\")\n",
    "        cam_extrinsic = read_extrinsic_binary(cameras_extrinsic_file)\n",
    "        cam_intrinsic = read_intrinsic_binary(cameras_intrinsic_file)\n",
    "\n",
    "        ### 获取相机信息，对colmap输出进行处理，变为想要的数据形式\n",
    "        self.processColmap(cam_extrinsic, cam_intrinsic, os.path.join(path, reading_dir))\n",
    "    \n",
    "    "
   ]
  }
 ],
 "metadata": {
  "kernelspec": {
   "display_name": "Python 3 (ipykernel)",
   "language": "python",
   "name": "python3"
  },
  "language_info": {
   "codemirror_mode": {
    "name": "ipython",
    "version": 3
   },
   "file_extension": ".py",
   "mimetype": "text/x-python",
   "name": "python",
   "nbconvert_exporter": "python",
   "pygments_lexer": "ipython3",
   "version": "3.7.13"
  }
 },
 "nbformat": 4,
 "nbformat_minor": 5
}
