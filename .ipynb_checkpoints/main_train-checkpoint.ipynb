{
 "cells": [
  {
   "cell_type": "code",
   "execution_count": 4,
   "id": "b22dadb9",
   "metadata": {},
   "outputs": [
    {
     "name": "stdout",
     "output_type": "stream",
     "text": [
      "{'sh_degree': 3, 'source_path': '', 'model_path': '', 'images': 'images', 'resolution': -1, 'white_background': False, 'data_device': 'cuda', 'eval': False, 'iterations': 30000, 'position_lr_init': 0.00016, 'position_lr_final': 1.6e-06, 'position_lr_delay_mult': 0.01, 'position_lr_max_steps': 30000, 'feature_lr': 0.0025, 'opacity_lr': 0.05, 'scaling_lr': 0.005, 'rotation_lr': 0.001, 'percent_dense': 0.01, 'lambda_dssim': 0.2, 'densification_interval': 100, 'opacity_reset_interval': 3000, 'densify_from_iter': 500, 'densify_until_iter': 15000, 'densify_grad_threshold': 0.0002, 'convert_SHs_python': False, 'compute_cov3D_python': False}\n",
      "<class 'dict'>\n",
      "[40000]\n",
      "3\n"
     ]
    }
   ],
   "source": [
    "import os\n",
    "import torch\n",
    "import sys\n",
    "import json\n",
    "from argparse import ArgumentParser, Namespace\n",
    "\n",
    "# 主函数\n",
    "if __name__ == \"__main__\":\n",
    "    # 创建解析器\n",
    "    parser = ArgumentParser(description=\"Begin training parameters\")\n",
    "    # 直接在主函数中配置的参数\n",
    "    parser.add_argument(\"--detect_anomaly\", action=\"store_true\", default=False)\n",
    "    parser.add_argument(\"--test_iterations\", nargs=\"+\", type=int, default=[100,1_000, 7_000, 30_000])\n",
    "    parser.add_argument(\"--save_iterations\", nargs=\"+\", type=int, default=[100,1_000, 7_000, 30_000]) \n",
    "    parser.add_argument(\"--checkpoint_iterations\", nargs=\"+\", type=int, default=[100, 1_000, 7_000, 30_000])\n",
    "    parser.add_argument(\"--start_checkpoint\", type=str, default = None)\n",
    "    \n",
    "    # 从config.json文件中配置参数\n",
    "    with open(\"config.json\", \"r\") as f:\n",
    "        data = json.load(f)\n",
    "    for key,value in data.items():\n",
    "        t = type(value)\n",
    "        if t == bool:\n",
    "            parser.add_argument(\"--\"+key, action=\"store_true\", default=value)\n",
    "        else:\n",
    "            parser.add_argument(\"--\"+key, type=t, default=value)\n",
    "    \n",
    "    # 解析参数\n",
    "    # 从命令行获取参数\n",
    "    # config = parser.parse_args(sys.argv[1:])\n",
    "    # 测试\n",
    "    config = parser.parse_args([\"--detect_anomaly\", \"--test_iterations\", \"40000\"])\n",
    "    print(config.test_iterations)\n",
    "    print(config.sh_degree)\n"
   ]
  },
  {
   "cell_type": "code",
   "execution_count": null,
   "id": "7c121825",
   "metadata": {},
   "outputs": [],
   "source": [
    "   "
   ]
  },
  {
   "cell_type": "code",
   "execution_count": null,
   "id": "79bf90f9",
   "metadata": {},
   "outputs": [],
   "source": []
  }
 ],
 "metadata": {
  "kernelspec": {
   "display_name": "Python 3 (ipykernel)",
   "language": "python",
   "name": "python3"
  },
  "language_info": {
   "codemirror_mode": {
    "name": "ipython",
    "version": 3
   },
   "file_extension": ".py",
   "mimetype": "text/x-python",
   "name": "python",
   "nbconvert_exporter": "python",
   "pygments_lexer": "ipython3",
   "version": "3.7.13"
  }
 },
 "nbformat": 4,
 "nbformat_minor": 5
}
