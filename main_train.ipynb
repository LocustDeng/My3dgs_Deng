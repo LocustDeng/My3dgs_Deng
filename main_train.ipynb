{
 "cells": [
  {
   "cell_type": "code",
   "execution_count": 5,
   "id": "b22dadb9",
   "metadata": {},
   "outputs": [
    {
     "name": "stdout",
     "output_type": "stream",
     "text": [
      "[40000]\n",
      "3\n"
     ]
    }
   ],
   "source": [
    "import os\n",
    "import torch\n",
    "import sys\n",
    "import json\n",
    "from argparse import ArgumentParser, Namespace\n",
    "\n",
    "# 主函数\n",
    "if __name__ == \"__main__\":\n",
    "    # 创建解析器\n",
    "    parser = ArgumentParser(description=\"Begin training parameters\")\n",
    "    # 直接在主函数中配置的参数\n",
    "    parser.add_argument(\"--detect_anomaly\", action=\"store_true\", default=False)\n",
    "    parser.add_argument(\"--test_iterations\", nargs=\"+\", type=int, default=[100,1_000, 7_000, 30_000])\n",
    "    parser.add_argument(\"--save_iterations\", nargs=\"+\", type=int, default=[100,1_000, 7_000, 30_000]) \n",
    "    parser.add_argument(\"--checkpoint_iterations\", nargs=\"+\", type=int, default=[100, 1_000, 7_000, 30_000])\n",
    "    parser.add_argument(\"--start_checkpoint\", type=str, default = None)\n",
    "    \n",
    "    # 从config.json文件中配置参数\n",
    "    with open(\"config.json\", \"r\") as f:\n",
    "        data = json.load(f)\n",
    "    for key,value in data.items():\n",
    "        t = type(value)\n",
    "        if t == bool:\n",
    "            parser.add_argument(\"--\"+key, action=\"store_true\", default=value)\n",
    "        else:\n",
    "            parser.add_argument(\"--\"+key, type=t, default=value)\n",
    "    \n",
    "    # 解析参数\n",
    "    # 从命令行获取参数\n",
    "    # config = parser.parse_args(sys.argv[1:])\n",
    "    # 测试\n",
    "    config = parser.parse_args([\"--detect_anomaly\", \"--test_iterations\", \"40000\"])\n",
    "    print(config.test_iterations)\n",
    "    print(config.sh_degree)\n"
   ]
  },
  {
   "cell_type": "code",
   "execution_count": null,
   "id": "7c121825",
   "metadata": {},
   "outputs": [],
   "source": [
    "   "
   ]
  },
  {
   "cell_type": "code",
   "execution_count": null,
   "id": "79bf90f9",
   "metadata": {},
   "outputs": [],
   "source": []
  }
 ],
 "metadata": {
  "kernelspec": {
   "display_name": "Python 3 (ipykernel)",
   "language": "python",
   "name": "python3"
  },
  "language_info": {
   "codemirror_mode": {
    "name": "ipython",
    "version": 3
   },
   "file_extension": ".py",
   "mimetype": "text/x-python",
   "name": "python",
   "nbconvert_exporter": "python",
   "pygments_lexer": "ipython3",
   "version": "3.7.13"
  }
 },
 "nbformat": 4,
 "nbformat_minor": 5
}
